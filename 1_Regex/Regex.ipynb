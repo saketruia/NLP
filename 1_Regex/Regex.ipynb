{
 "cells": [
  {
   "cell_type": "code",
   "execution_count": 1,
   "id": "63c3b8b1-3d77-410b-9d8e-520bed49c5d2",
   "metadata": {},
   "outputs": [],
   "source": [
    "import re"
   ]
  },
  {
   "cell_type": "code",
   "execution_count": null,
   "id": "6251df42-8307-419f-8b41-6bf8b460fcb5",
   "metadata": {},
   "outputs": [],
   "source": [
    "chat1 = 'Saket: you ask lot of questions 😠  1235678912, abc@xyz.com'\n",
    "chat2 = 'Saket: here it is: (123)-567-8912, abc@xyz.com'\n",
    "chat3 = 'Saket: yes, phone: 1235678912 email: abc@xyz.com'"
   ]
  },
  {
   "cell_type": "code",
   "execution_count": 21,
   "id": "fd2c3fa0-6f2c-4dae-8054-a0242575f16a",
   "metadata": {},
   "outputs": [
    {
     "name": "stderr",
     "output_type": "stream",
     "text": [
      "<>:1: SyntaxWarning: invalid escape sequence '\\('\n",
      "<>:1: SyntaxWarning: invalid escape sequence '\\('\n",
      "C:\\Users\\SAKET\\AppData\\Local\\Temp\\ipykernel_8980\\2774367188.py:1: SyntaxWarning: invalid escape sequence '\\('\n",
      "  pattern_number='\\\\d{10}|\\(\\d{3}\\)-\\d{3}-\\d{4}'\n"
     ]
    },
    {
     "data": {
      "text/plain": [
       "['1235678912']"
      ]
     },
     "execution_count": 21,
     "metadata": {},
     "output_type": "execute_result"
    }
   ],
   "source": [
    "pattern_number='\\\\d{10}|\\(\\d{3}\\)-\\d{3}-\\d{4}'\n",
    "matches=re.findall(pattern_number, chat3)\n",
    "matches"
   ]
  },
  {
   "cell_type": "code",
   "execution_count": 22,
   "id": "493496bd-0d95-4f36-893f-619e4623418f",
   "metadata": {},
   "outputs": [
    {
     "name": "stderr",
     "output_type": "stream",
     "text": [
      "<>:1: SyntaxWarning: invalid escape sequence '\\.'\n",
      "<>:1: SyntaxWarning: invalid escape sequence '\\.'\n",
      "C:\\Users\\SAKET\\AppData\\Local\\Temp\\ipykernel_8980\\3339387245.py:1: SyntaxWarning: invalid escape sequence '\\.'\n",
      "  pattern_email='[a-z0-9A-Z_]*@[a-z]*\\.[a-z]*'\n"
     ]
    },
    {
     "data": {
      "text/plain": [
       "['abc@xyz.com']"
      ]
     },
     "execution_count": 22,
     "metadata": {},
     "output_type": "execute_result"
    }
   ],
   "source": [
    "pattern_email='[a-z0-9A-Z_]*@[a-z]*\\.[a-z]*'\n",
    "match=re.findall(pattern_email,chat3)\n",
    "match"
   ]
  },
  {
   "cell_type": "code",
   "execution_count": 23,
   "id": "ab1ec5e0-3c7a-4217-857a-b5e3705014b1",
   "metadata": {},
   "outputs": [],
   "source": [
    "chat4='Saket: Hello, I am having an issue with my order # 412889912'\n",
    "chat5='Saket: I have a problem with my order number 412889912'\n",
    "chat6='Saket: My order 412889912 is having an issue, I was charged 300$ when online it says 280$'"
   ]
  },
  {
   "cell_type": "code",
   "execution_count": 27,
   "id": "a13984db-7e86-4aa5-9ec0-f3d2e63cffae",
   "metadata": {},
   "outputs": [
    {
     "name": "stderr",
     "output_type": "stream",
     "text": [
      "<>:1: SyntaxWarning: invalid escape sequence '\\d'\n",
      "<>:1: SyntaxWarning: invalid escape sequence '\\d'\n",
      "C:\\Users\\SAKET\\AppData\\Local\\Temp\\ipykernel_8980\\4002051327.py:1: SyntaxWarning: invalid escape sequence '\\d'\n",
      "  pattern_order='order[^\\d]*(\\d*)'\n"
     ]
    },
    {
     "data": {
      "text/plain": [
       "['412889912']"
      ]
     },
     "execution_count": 27,
     "metadata": {},
     "output_type": "execute_result"
    }
   ],
   "source": [
    "pattern_order='order[^\\d]*(\\d*)'\n",
    "match1=re.findall(pattern_order,chat6)\n",
    "match1"
   ]
  },
  {
   "cell_type": "code",
   "execution_count": 28,
   "id": "6fcc19e5-2b49-4ae3-8559-625a8f000bf5",
   "metadata": {},
   "outputs": [],
   "source": [
    "def get_pattern_match(pattern, text):\n",
    "    matches = re.findall(pattern, text)\n",
    "    if matches:\n",
    "        return matches[0]"
   ]
  },
  {
   "cell_type": "code",
   "execution_count": 29,
   "id": "559fcaf1-0c7f-449d-bcb5-7ae8a9d76979",
   "metadata": {},
   "outputs": [],
   "source": [
    "text='''\n",
    "Born\tElon Reeve Musk\n",
    "June 28, 1971 (age 50)\n",
    "Pretoria, Transvaal, South Africa\n",
    "Citizenship\t\n",
    "South Africa (1971–present)\n",
    "Canada (1971–present)\n",
    "United States (2002–present)\n",
    "Education\tUniversity of Pennsylvania (BS, BA)\n",
    "Title\t\n",
    "Founder, CEO and Chief Engineer of SpaceX\n",
    "CEO and product architect of Tesla, Inc.\n",
    "Founder of The Boring Company and X.com (now part of PayPal)\n",
    "Co-founder of Neuralink, OpenAI, and Zip2\n",
    "Spouse(s)\t\n",
    "Justine Wilson\n",
    "​\n",
    "​(m. 2000; div. 2008)​\n",
    "Talulah Riley\n",
    "​\n",
    "​(m. 2010; div. 2012)​\n",
    "​\n",
    "​(m. 2013; div. 2016)\n",
    "'''"
   ]
  },
  {
   "cell_type": "code",
   "execution_count": 30,
   "id": "fe342c29-332f-4fff-8f95-c57289ba707d",
   "metadata": {},
   "outputs": [
    {
     "data": {
      "text/plain": [
       "'50'"
      ]
     },
     "execution_count": 30,
     "metadata": {},
     "output_type": "execute_result"
    }
   ],
   "source": [
    "#age\n",
    "get_pattern_match(r'age (\\d+)', text)"
   ]
  },
  {
   "cell_type": "code",
   "execution_count": 31,
   "id": "163a6f4e-3093-4e49-baec-d08e831595ad",
   "metadata": {},
   "outputs": [
    {
     "data": {
      "text/plain": [
       "'Elon Reeve Musk'"
      ]
     },
     "execution_count": 31,
     "metadata": {},
     "output_type": "execute_result"
    }
   ],
   "source": [
    "#full name\n",
    "get_pattern_match(r'Born(.*)\\n', text).strip()"
   ]
  },
  {
   "cell_type": "code",
   "execution_count": 32,
   "id": "421d6341-88b6-4077-a1c3-6390f481b139",
   "metadata": {},
   "outputs": [
    {
     "data": {
      "text/plain": [
       "'June 28, 1971'"
      ]
     },
     "execution_count": 32,
     "metadata": {},
     "output_type": "execute_result"
    }
   ],
   "source": [
    "#Date of birth\n",
    "get_pattern_match(r'Born.*\\n(.*)\\(age', text).strip()"
   ]
  },
  {
   "cell_type": "code",
   "execution_count": 34,
   "id": "9c87c7d1-8afb-40f1-803a-73ec8403b31a",
   "metadata": {},
   "outputs": [
    {
     "data": {
      "text/plain": [
       "'Pretoria, Transvaal, South Africa'"
      ]
     },
     "execution_count": 34,
     "metadata": {},
     "output_type": "execute_result"
    }
   ],
   "source": [
    "#place of birth\n",
    "get_pattern_match(r'\\(age.*\\n(.*)', text)"
   ]
  },
  {
   "cell_type": "code",
   "execution_count": 35,
   "id": "3fcaa377-1e08-423d-b8cd-9a901cf5a721",
   "metadata": {},
   "outputs": [
    {
     "name": "stderr",
     "output_type": "stream",
     "text": [
      "<>:2: SyntaxWarning: invalid escape sequence '\\d'\n",
      "<>:4: SyntaxWarning: invalid escape sequence '\\('\n",
      "<>:5: SyntaxWarning: invalid escape sequence '\\('\n",
      "<>:2: SyntaxWarning: invalid escape sequence '\\d'\n",
      "<>:4: SyntaxWarning: invalid escape sequence '\\('\n",
      "<>:5: SyntaxWarning: invalid escape sequence '\\('\n",
      "C:\\Users\\SAKET\\AppData\\Local\\Temp\\ipykernel_8980\\3783779278.py:2: SyntaxWarning: invalid escape sequence '\\d'\n",
      "  age = get_pattern_match('age (\\d+)', text)\n",
      "C:\\Users\\SAKET\\AppData\\Local\\Temp\\ipykernel_8980\\3783779278.py:4: SyntaxWarning: invalid escape sequence '\\('\n",
      "  birth_date = get_pattern_match('Born.*\\n(.*)\\(age', text)\n",
      "C:\\Users\\SAKET\\AppData\\Local\\Temp\\ipykernel_8980\\3783779278.py:5: SyntaxWarning: invalid escape sequence '\\('\n",
      "  birth_place = get_pattern_match('\\(age.*\\n(.*)', text)\n"
     ]
    }
   ],
   "source": [
    "def extract_personal_information(text):\n",
    "    age = get_pattern_match('age (\\d+)', text)\n",
    "    full_name = get_pattern_match('Born(.*)\\n', text)\n",
    "    birth_date = get_pattern_match('Born.*\\n(.*)\\(age', text)\n",
    "    birth_place = get_pattern_match('\\(age.*\\n(.*)', text)\n",
    "    return {\n",
    "        'age': int(age),\n",
    "        'name': full_name.strip(),\n",
    "        'birth_date': birth_date.strip(),\n",
    "        'birth_place': birth_place.strip()\n",
    "    }"
   ]
  },
  {
   "cell_type": "code",
   "execution_count": 36,
   "id": "d356b812-d914-4e68-b3d1-e1cc916aa1eb",
   "metadata": {},
   "outputs": [
    {
     "data": {
      "text/plain": [
       "{'age': 50,\n",
       " 'name': 'Elon Reeve Musk',\n",
       " 'birth_date': 'June 28, 1971',\n",
       " 'birth_place': 'Pretoria, Transvaal, South Africa'}"
      ]
     },
     "execution_count": 36,
     "metadata": {},
     "output_type": "execute_result"
    }
   ],
   "source": [
    "extract_personal_information(text)"
   ]
  },
  {
   "cell_type": "code",
   "execution_count": 37,
   "id": "e99270c4-644a-4129-82d5-1ec3a36a45de",
   "metadata": {},
   "outputs": [],
   "source": [
    "text1='''President\tDonald Trump (elect)\n",
    "Preceded by\tPosition established\n",
    "Personal details\n",
    "Born\tElon Reeve Musk\n",
    "June 28, 1971 (age 53)\n",
    "Pretoria, Transvaal, South Africa\n",
    "Citizenship\t\n",
    "South Africa\n",
    "Canada\n",
    "United States (from 2002)\n",
    "Political party\tIndependent\n",
    "Spouses\t\n",
    "Justine Wilson\n",
    "​\n",
    "​(m. 2000; div. 2008)​\n",
    "Talulah Riley\n",
    "​\n",
    "​(m. 2010; div. 2012)​\n",
    "​\n",
    "​(m. 2013; div. 2016)​\n",
    "Children\t12[1]\n",
    "Parents\t\n",
    "Errol Musk\n",
    "Maye Musk\n",
    "Relatives\t\n",
    "Kimbal Musk (brother)\n",
    "Tosca Musk (sister)\n",
    "Lyndon Rive (cousin)\n",
    "Education\tUniversity of Pennsylvania (BA, BS)\n",
    "Occupation\tBusinessman\n",
    "Profession\t\n",
    "Founder, CEO, and chief engineer of SpaceX\n",
    "CEO and product architect of Tesla, Inc.\n",
    "Owner, CTO and executive chairman of X (formerly Twitter)\n",
    "President of the Musk Foundation\n",
    "Founder of The Boring Company, X Corp., and xAI'''"
   ]
  },
  {
   "cell_type": "code",
   "execution_count": 47,
   "id": "e69e0057-30eb-4e03-9adf-62218f473b61",
   "metadata": {},
   "outputs": [
    {
     "data": {
      "text/plain": [
       "{'age': 53,\n",
       " 'name': 'Elon Reeve Musk',\n",
       " 'birth_date': 'June 28, 1971',\n",
       " 'birth_place': 'Pretoria, Transvaal, South Africa'}"
      ]
     },
     "execution_count": 47,
     "metadata": {},
     "output_type": "execute_result"
    }
   ],
   "source": [
    "extract_personal_information(text1)"
   ]
  },
  {
   "cell_type": "code",
   "execution_count": 49,
   "id": "9e4f1dfc-5704-4033-b035-98701082f591",
   "metadata": {},
   "outputs": [],
   "source": [
    "text2='''\n",
    "Born\tMukesh Dhirubhai Ambani\n",
    "19 April 1957 (age 67)\n",
    "Aden, Colony of Aden\n",
    "(present-day Yemen)[1][2]\n",
    "Nationality\tIndian\n",
    "Alma mater\t\n",
    "St. Xavier's College, Mumbai\n",
    "Institute of Chemical Technology (B.E.)\n",
    "Occupation\tBusinessman\n",
    "Years active\t1981-present\n",
    "Organization\tReliance Industries\n",
    "Title\tChairman and MD of Reliance Industries\n",
    "'''"
   ]
  },
  {
   "cell_type": "code",
   "execution_count": 50,
   "id": "fcfa12e0-68f1-4df6-8f07-1970ae71535d",
   "metadata": {},
   "outputs": [
    {
     "data": {
      "text/plain": [
       "{'age': 67,\n",
       " 'name': 'Mukesh Dhirubhai Ambani',\n",
       " 'birth_date': '19 April 1957',\n",
       " 'birth_place': 'Aden, Colony of Aden'}"
      ]
     },
     "execution_count": 50,
     "metadata": {},
     "output_type": "execute_result"
    }
   ],
   "source": [
    "extract_personal_information(text2)"
   ]
  },
  {
   "cell_type": "code",
   "execution_count": 53,
   "id": "b2492f6c-2bd3-417a-8852-9d70b4666c67",
   "metadata": {},
   "outputs": [],
   "source": [
    "text3='''\n",
    "Born\tNarendra Damodardas Modi\n",
    "17 September 1950 (age 74)\n",
    "Vadnagar, Bombay State, India\n",
    "(present-day Gujarat)\n",
    "Political party\tBharatiya Janata Party\n",
    "Spouse\tJashodaben Modi\n",
    "​\n",
    "​(m. 1968; sep. 1971)​[2]\n",
    "Residence\t7, Lok Kalyan Marg, New Delhi\n",
    "Alma mater\t\n",
    "Delhi University (BA)\n",
    "Gujarat University (MA)\n",
    "Awards\tList of state honours\n",
    "'''"
   ]
  },
  {
   "cell_type": "code",
   "execution_count": 54,
   "id": "60d6aba9-6c67-468e-bd6a-9eb632e2e087",
   "metadata": {},
   "outputs": [
    {
     "data": {
      "text/plain": [
       "{'age': 74,\n",
       " 'name': 'Narendra Damodardas Modi',\n",
       " 'birth_date': '17 September 1950',\n",
       " 'birth_place': 'Vadnagar, Bombay State, India'}"
      ]
     },
     "execution_count": 54,
     "metadata": {},
     "output_type": "execute_result"
    }
   ],
   "source": [
    "extract_personal_information(text3)"
   ]
  },
  {
   "cell_type": "code",
   "execution_count": null,
   "id": "da788063-254a-4a8b-bd3c-29cd18f8cfd1",
   "metadata": {},
   "outputs": [],
   "source": []
  }
 ],
 "metadata": {
  "kernelspec": {
   "display_name": "Python 3 (ipykernel)",
   "language": "python",
   "name": "python3"
  },
  "language_info": {
   "codemirror_mode": {
    "name": "ipython",
    "version": 3
   },
   "file_extension": ".py",
   "mimetype": "text/x-python",
   "name": "python",
   "nbconvert_exporter": "python",
   "pygments_lexer": "ipython3",
   "version": "3.13.0"
  }
 },
 "nbformat": 4,
 "nbformat_minor": 5
}
