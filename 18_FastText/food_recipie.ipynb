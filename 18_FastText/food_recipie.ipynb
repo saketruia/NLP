{
 "cells": [
  {
   "cell_type": "code",
   "execution_count": 2,
   "id": "849fa668-6c6b-45eb-9fc2-5123d7a32bd3",
   "metadata": {},
   "outputs": [],
   "source": [
    "import fasttext\n",
    "model_en = fasttext.load_model('C:\\\\Users\\\\SAKET\\\\OneDrive\\\\Desktop\\\\AIML\\\\NLP\\\\cc.en.300.bin\\\\cc.en.300.bin')\n"
   ]
  },
  {
   "cell_type": "code",
   "execution_count": 6,
   "id": "587f7000-2c4a-45ad-b56e-2a10e259c33c",
   "metadata": {},
   "outputs": [
    {
     "data": {
      "text/plain": [
       "[(0.8463464975357056, 'dogs'),\n",
       " (0.7873005270957947, 'puppy'),\n",
       " (0.7692237496376038, 'pup'),\n",
       " (0.7435278296470642, 'canine'),\n",
       " (0.733370840549469, 'pet'),\n",
       " (0.7326501607894897, 'doggie'),\n",
       " (0.7242385745048523, 'dog--'),\n",
       " (0.7231176495552063, 'beagle'),\n",
       " (0.7229929566383362, 'dachshund'),\n",
       " (0.7078613042831421, 'cat')]"
      ]
     },
     "execution_count": 6,
     "metadata": {},
     "output_type": "execute_result"
    }
   ],
   "source": [
    "model_en.get_nearest_neighbors('dog')"
   ]
  },
  {
   "cell_type": "code",
   "execution_count": 7,
   "id": "ebe91fd3-5e15-4020-9c1f-c205829d9d02",
   "metadata": {},
   "outputs": [
    {
     "data": {
      "text/plain": [
       "[(0.7517593502998352, 'bad'),\n",
       " (0.7426098585128784, 'great'),\n",
       " (0.7299689054489136, 'decent'),\n",
       " (0.7123614549636841, 'nice'),\n",
       " (0.6796907186508179, 'Good'),\n",
       " (0.6737031936645508, 'excellent'),\n",
       " (0.669592022895813, 'goood'),\n",
       " (0.6602178812026978, 'ggod'),\n",
       " (0.6479219794273376, 'semi-good'),\n",
       " (0.6417751908302307, 'good.Good')]"
      ]
     },
     "execution_count": 7,
     "metadata": {},
     "output_type": "execute_result"
    }
   ],
   "source": [
    "model_en.get_nearest_neighbors('good')"
   ]
  },
  {
   "cell_type": "code",
   "execution_count": 8,
   "id": "c4eb44df-5708-4ba5-bca2-791f25a4be8b",
   "metadata": {},
   "outputs": [
    {
     "data": {
      "text/plain": [
       "(300,)"
      ]
     },
     "execution_count": 8,
     "metadata": {},
     "output_type": "execute_result"
    }
   ],
   "source": [
    "model_en.get_word_vector(\"good\").shape"
   ]
  },
  {
   "cell_type": "code",
   "execution_count": 9,
   "id": "7738b454-1f23-45d2-879a-8e03b1469efe",
   "metadata": {},
   "outputs": [
    {
     "data": {
      "text/plain": [
       "[(0.7148876190185547, 'delhi'),\n",
       " (0.6974374055862427, 'mumbai'),\n",
       " (0.648612916469574, 'jaipur'),\n",
       " (0.6349966526031494, 'kolkata'),\n",
       " (0.6279922723770142, 'pune'),\n",
       " (0.6277596354484558, 'bangalore'),\n",
       " (0.6044078469276428, 'hyderabad'),\n",
       " (0.6021745800971985, 'noida'),\n",
       " (0.6018899083137512, 'bhubaneswar'),\n",
       " (0.599077582359314, 'nashik')]"
      ]
     },
     "execution_count": 9,
     "metadata": {},
     "output_type": "execute_result"
    }
   ],
   "source": [
    "model_en.get_analogies(\"berlin\",\"germany\",\"india\")"
   ]
  },
  {
   "cell_type": "code",
   "execution_count": 10,
   "id": "65a37deb-25fb-42fe-a29e-ca4cf7bed109",
   "metadata": {},
   "outputs": [
    {
     "data": {
      "text/plain": [
       "[(0.7303731441497803, 'paris'),\n",
       " (0.6408537030220032, 'france.'),\n",
       " (0.6393311023712158, 'avignon'),\n",
       " (0.6316676139831543, 'paris.'),\n",
       " (0.5895596742630005, 'montpellier'),\n",
       " (0.5884554386138916, 'rennes'),\n",
       " (0.5850598812103271, 'grenoble'),\n",
       " (0.5832924246788025, 'london'),\n",
       " (0.5806092619895935, 'strasbourg'),\n",
       " (0.574320375919342, 'Paris.')]"
      ]
     },
     "execution_count": 10,
     "metadata": {},
     "output_type": "execute_result"
    }
   ],
   "source": [
    "model_en.get_analogies(\"berlin\",\"germany\",\"france\")"
   ]
  },
  {
   "cell_type": "code",
   "execution_count": 11,
   "id": "bdb6513e-708b-4842-8e7b-e895d90703d3",
   "metadata": {},
   "outputs": [
    {
     "data": {
      "text/plain": [
       "[(0.610385537147522, 'texting'),\n",
       " (0.5203558802604675, 'phone-calling'),\n",
       " (0.5153835415840149, 'cellphone'),\n",
       " (0.5135326981544495, 'cell-phone'),\n",
       " (0.5117910504341125, 'dialing'),\n",
       " (0.5087355971336365, 'texing'),\n",
       " (0.5079342722892761, 'text-messaging'),\n",
       " (0.500900387763977, 'txting'),\n",
       " (0.4960441589355469, 'texting.'),\n",
       " (0.4951859414577484, 'Texting')]"
      ]
     },
     "execution_count": 11,
     "metadata": {},
     "output_type": "execute_result"
    }
   ],
   "source": [
    "model_en.get_analogies(\"driving\",\"car\",\"phone\")"
   ]
  },
  {
   "cell_type": "code",
   "execution_count": 12,
   "id": "8e19e85a-1e8f-4e60-8b06-0c6e156cf941",
   "metadata": {},
   "outputs": [
    {
     "data": {
      "text/plain": [
       "[(0.5302355885505676, 'reading'),\n",
       " (0.517051637172699, 'book.I'),\n",
       " (0.5137901306152344, 'book--and'),\n",
       " (0.5090512633323669, 'book.That'),\n",
       " (0.5005884766578674, 'book--it'),\n",
       " (0.49395182728767395, 'book--I'),\n",
       " (0.49293914437294006, 're-reading'),\n",
       " (0.49156999588012695, 'book.This'),\n",
       " (0.49107635021209717, 'reading--and'),\n",
       " (0.48960915207862854, 'book--the')]"
      ]
     },
     "execution_count": 12,
     "metadata": {},
     "output_type": "execute_result"
    }
   ],
   "source": [
    "model_en.get_analogies(\"driving\",\"car\",\"book\")"
   ]
  },
  {
   "cell_type": "code",
   "execution_count": 13,
   "id": "66435d94-34b9-4b95-b0df-03eac4b4f64f",
   "metadata": {},
   "outputs": [
    {
     "data": {
      "text/plain": [
       "[(0.8078702092170715, 'chutneys'),\n",
       " (0.7138292789459229, 'thokku'),\n",
       " (0.701572060585022, 'Chutney'),\n",
       " (0.6875490546226501, 'achaar'),\n",
       " (0.684525728225708, 'piccalilli'),\n",
       " (0.6737173199653625, 'raita'),\n",
       " (0.6715506911277771, 'chatni'),\n",
       " (0.6610829830169678, 'chutney.'),\n",
       " (0.6505922675132751, 'gojju'),\n",
       " (0.6398508548736572, 'kasundi')]"
      ]
     },
     "execution_count": 13,
     "metadata": {},
     "output_type": "execute_result"
    }
   ],
   "source": [
    "model_en.get_nearest_neighbors(\"chutney\")"
   ]
  },
  {
   "cell_type": "code",
   "execution_count": 14,
   "id": "e25eb799-896e-4edd-9657-f9130ac12167",
   "metadata": {},
   "outputs": [
    {
     "data": {
      "text/plain": [
       "[(0.8563978672027588, 'kheer'),\n",
       " (0.8392286896705627, 'burfi'),\n",
       " (0.8193163871765137, 'Halwa'),\n",
       " (0.7894062995910645, 'kesari'),\n",
       " (0.778471827507019, 'payasam'),\n",
       " (0.7706475853919983, 'burfis'),\n",
       " (0.7590622901916504, 'laddoo'),\n",
       " (0.7504664659500122, 'ladoo'),\n",
       " (0.7471016645431519, 'rabdi'),\n",
       " (0.7396334409713745, 'laddu')]"
      ]
     },
     "execution_count": 14,
     "metadata": {},
     "output_type": "execute_result"
    }
   ],
   "source": [
    "model_en.get_nearest_neighbors(\"halwa\")"
   ]
  },
  {
   "cell_type": "code",
   "execution_count": 16,
   "id": "b26e825b-ee7b-49a4-9389-9af7d51e20ef",
   "metadata": {},
   "outputs": [
    {
     "data": {
      "text/plain": [
       "[(0.8217592835426331, 'Paneer'),\n",
       " (0.7402403950691223, 'keema'),\n",
       " (0.7374359369277954, 'palak'),\n",
       " (0.7263392806053162, 'koftas'),\n",
       " (0.7208257913589478, 'saag'),\n",
       " (0.7154694199562073, 'paratha'),\n",
       " (0.7106940746307373, 'kheema'),\n",
       " (0.7036924362182617, 'rasmalai'),\n",
       " (0.6935659050941467, 'subzi'),\n",
       " (0.6927855610847473, 'sabji')]"
      ]
     },
     "execution_count": 16,
     "metadata": {},
     "output_type": "execute_result"
    }
   ],
   "source": [
    "model_en.get_nearest_neighbors(\"paneer\")"
   ]
  },
  {
   "cell_type": "code",
   "execution_count": 18,
   "id": "488d90a2-9b3f-4f69-97ec-5348a6d5aa4d",
   "metadata": {},
   "outputs": [
    {
     "data": {
      "text/plain": [
       "[(0.5699529647827148, 'kings'),\n",
       " (0.5580171942710876, 'queen'),\n",
       " (0.5427359938621521, 'queens'),\n",
       " (0.5033844709396362, 'princesses'),\n",
       " (0.4931364059448242, 'noblewomen'),\n",
       " (0.4883626103401184, 'nobles'),\n",
       " (0.4714193344116211, 'princes'),\n",
       " (0.45433005690574646, 'courtiers'),\n",
       " (0.44923457503318787, 'abbesses'),\n",
       " (0.4467787444591522, 'queen-mother')]"
      ]
     },
     "execution_count": 18,
     "metadata": {},
     "output_type": "execute_result"
    }
   ],
   "source": [
    "model_en.get_analogies(\"king\",\"man\",\"women\")"
   ]
  },
  {
   "cell_type": "code",
   "execution_count": 19,
   "id": "18b00d67-d98a-4f13-8d9b-9d91c6cce2c5",
   "metadata": {},
   "outputs": [
    {
     "data": {
      "text/plain": [
       "[(0.5384978652000427,\n",
       "  'ReportsTabloidCrimeYakuzaTokyoGinzaIkebukuroKabukichoRoppongiShibuyaShimbashiShinjukuUenoJapanChibaFukuokaKobeKyotoNagoyaOkinawaOsakaSaitamaYokohamaSportsBaseballHorse'),\n",
       " (0.5373231768608093,\n",
       "  'NoidaVaranasiBareillyMathuraAligarhMoradabadSaharanpurBijnorJaunpurGorakhpurMuzaffarnagarSultanpurDehradunHaridwarNainitalRoorkeeGarhwalBardhamanMurshidabadHooghlyMedinipurNorth'),\n",
       " (0.5331498980522156,\n",
       "  'NagarBhiwaniKarnalKurukshetraMahendragarhSirsaPanipatJindJhajjarRewariSolanShimlaKangraHamirpurMandiJammuSrinagarRanchiJamshedpurMangaloreMysoreBelgaumGulbargaTumkurBijapurDavanagereDharwadShimogaUdupiHassanBidarHubliKolarBagalkotKannadaChitradurgaMandyaGadagBellaryRaichurThiruvananthapuramThrissurErnakulamMalappuramKochiKottayamKannurKozhikodeKollamPalakkadPathanamthittaCalicutTrivandrumAlappuzhaKasaragodBhopalIndoreGwaliorJabalpurUjjainSagarChhatarpurPuneNagpurAurangabadNashikKolhapurAhmed'),\n",
       " (0.5117493271827698,\n",
       "  'NagarMehsanaVadodaraAnandBhavnagarKachchhSabarkanthaJunagadhJamnagarGurgaonRohtakFaridabadSonepatHisarAmbalaYamuna'),\n",
       " (0.5094584226608276, 'CityDaeguKwangjuSeoulUlsanYeosuVayama.com'),\n",
       " (0.5093042850494385,\n",
       "  'SahibKapurthalaJaipurUdaipurAlwarJodhpurAjmerSikarKotaGanganagarBikanerJhunjhunuHanumangarhGangtokCoimbatoreNamakkalKanyakumariSalemMaduraiVelloreKanchipuramErodeTirunelveliThanjavurVillupuramDindigulTrichyTiruvannamalaiCuddaloreThiruchirapalliThiruvallurPudukkottaiDharmapuriThiruchirapalliThoothukudiSivagangaPerambalurVirudhunagarTiruppurNagapattinamKarurRangareddiWarangalNalgondaKarim'),\n",
       " (0.5052895545959473, 'PyshmaRevdaBeryozovskySredneuralsk'),\n",
       " (0.504956066608429, 'BrazilAracajuBauruBelemBelo'),\n",
       " (0.5035199522972107,\n",
       "  'ItalyAlgheroAnconaBariBolognaBrindisiCagliariCataniaFlorenceGenoaLamezia'),\n",
       " (0.4999712109565735,\n",
       "  'MumbaiBeedDhuleWardhaRaigarhRatnagiriLaturYavatmalChandrapurNandedAkolaImphalShillongAizawlDimapurBhubaneswarCuttackPondicherryPatialaMohaliLudhianaAmritsarJalandharBathindaHoshiarpurSangrurGurdaspurMogaFirozpurFatehgarh')]"
      ]
     },
     "execution_count": 19,
     "metadata": {},
     "output_type": "execute_result"
    }
   ],
   "source": [
    "model_en.get_nearest_neighbors(\"saragva\")"
   ]
  },
  {
   "cell_type": "code",
   "execution_count": 20,
   "id": "ca097c35-606e-4a2b-af15-2b79f2896008",
   "metadata": {},
   "outputs": [
    {
     "name": "stdout",
     "output_type": "stream",
     "text": [
      "(5938, 9)\n"
     ]
    },
    {
     "data": {
      "text/html": [
       "<div>\n",
       "<style scoped>\n",
       "    .dataframe tbody tr th:only-of-type {\n",
       "        vertical-align: middle;\n",
       "    }\n",
       "\n",
       "    .dataframe tbody tr th {\n",
       "        vertical-align: top;\n",
       "    }\n",
       "\n",
       "    .dataframe thead th {\n",
       "        text-align: right;\n",
       "    }\n",
       "</style>\n",
       "<table border=\"1\" class=\"dataframe\">\n",
       "  <thead>\n",
       "    <tr style=\"text-align: right;\">\n",
       "      <th></th>\n",
       "      <th>TranslatedRecipeName</th>\n",
       "      <th>TranslatedIngredients</th>\n",
       "      <th>TotalTimeInMins</th>\n",
       "      <th>Cuisine</th>\n",
       "      <th>TranslatedInstructions</th>\n",
       "      <th>URL</th>\n",
       "      <th>Cleaned-Ingredients</th>\n",
       "      <th>image-url</th>\n",
       "      <th>Ingredient-count</th>\n",
       "    </tr>\n",
       "  </thead>\n",
       "  <tbody>\n",
       "    <tr>\n",
       "      <th>0</th>\n",
       "      <td>Masala Karela Recipe</td>\n",
       "      <td>1 tablespoon Red Chilli powder,3 tablespoon Gr...</td>\n",
       "      <td>45</td>\n",
       "      <td>Indian</td>\n",
       "      <td>To begin making the Masala Karela Recipe,de-se...</td>\n",
       "      <td>https://www.archanaskitchen.com/masala-karela-...</td>\n",
       "      <td>salt,amchur (dry mango powder),karela (bitter ...</td>\n",
       "      <td>https://www.archanaskitchen.com/images/archana...</td>\n",
       "      <td>10</td>\n",
       "    </tr>\n",
       "    <tr>\n",
       "      <th>1</th>\n",
       "      <td>Spicy Tomato Rice (Recipe)</td>\n",
       "      <td>2 teaspoon cashew - or peanuts, 1/2 Teaspoon ...</td>\n",
       "      <td>15</td>\n",
       "      <td>South Indian Recipes</td>\n",
       "      <td>To make tomato puliogere, first cut the tomato...</td>\n",
       "      <td>https://www.archanaskitchen.com/spicy-tomato-r...</td>\n",
       "      <td>tomato,salt,chickpea lentils,green chilli,rice...</td>\n",
       "      <td>https://www.archanaskitchen.com/images/archana...</td>\n",
       "      <td>12</td>\n",
       "    </tr>\n",
       "    <tr>\n",
       "      <th>2</th>\n",
       "      <td>Ragi Semiya Upma Recipe - Ragi Millet Vermicel...</td>\n",
       "      <td>1 Onion - sliced,1 teaspoon White Urad Dal (Sp...</td>\n",
       "      <td>50</td>\n",
       "      <td>South Indian Recipes</td>\n",
       "      <td>To begin making the Ragi Vermicelli Recipe, fi...</td>\n",
       "      <td>https://www.archanaskitchen.com/ragi-vermicell...</td>\n",
       "      <td>salt,rice vermicelli noodles (thin),asafoetida...</td>\n",
       "      <td>https://www.archanaskitchen.com/images/archana...</td>\n",
       "      <td>12</td>\n",
       "    </tr>\n",
       "  </tbody>\n",
       "</table>\n",
       "</div>"
      ],
      "text/plain": [
       "                                TranslatedRecipeName  \\\n",
       "0                               Masala Karela Recipe   \n",
       "1                         Spicy Tomato Rice (Recipe)   \n",
       "2  Ragi Semiya Upma Recipe - Ragi Millet Vermicel...   \n",
       "\n",
       "                               TranslatedIngredients  TotalTimeInMins  \\\n",
       "0  1 tablespoon Red Chilli powder,3 tablespoon Gr...               45   \n",
       "1   2 teaspoon cashew - or peanuts, 1/2 Teaspoon ...               15   \n",
       "2  1 Onion - sliced,1 teaspoon White Urad Dal (Sp...               50   \n",
       "\n",
       "                Cuisine                             TranslatedInstructions  \\\n",
       "0                Indian  To begin making the Masala Karela Recipe,de-se...   \n",
       "1  South Indian Recipes  To make tomato puliogere, first cut the tomato...   \n",
       "2  South Indian Recipes  To begin making the Ragi Vermicelli Recipe, fi...   \n",
       "\n",
       "                                                 URL  \\\n",
       "0  https://www.archanaskitchen.com/masala-karela-...   \n",
       "1  https://www.archanaskitchen.com/spicy-tomato-r...   \n",
       "2  https://www.archanaskitchen.com/ragi-vermicell...   \n",
       "\n",
       "                                 Cleaned-Ingredients  \\\n",
       "0  salt,amchur (dry mango powder),karela (bitter ...   \n",
       "1  tomato,salt,chickpea lentils,green chilli,rice...   \n",
       "2  salt,rice vermicelli noodles (thin),asafoetida...   \n",
       "\n",
       "                                           image-url  Ingredient-count  \n",
       "0  https://www.archanaskitchen.com/images/archana...                10  \n",
       "1  https://www.archanaskitchen.com/images/archana...                12  \n",
       "2  https://www.archanaskitchen.com/images/archana...                12  "
      ]
     },
     "execution_count": 20,
     "metadata": {},
     "output_type": "execute_result"
    }
   ],
   "source": [
    "import pandas as pd\n",
    "\n",
    "df = pd.read_csv(\"Cleaned_Indian_Food_Dataset.csv\")\n",
    "print(df.shape)\n",
    "df.head(3)"
   ]
  },
  {
   "cell_type": "code",
   "execution_count": 21,
   "id": "f7ce35fc-9d05-40ab-b107-541fc9b65420",
   "metadata": {},
   "outputs": [
    {
     "data": {
      "text/plain": [
       "'To begin making the Masala Karela Recipe,de-seed the karela and slice.\\nDo not remove the skin as the skin has all the nutrients.\\nAdd the karela to the pressure cooker with 3 tablespoon of water, salt and turmeric powder and pressure cook for three whistles.\\nRelease the pressure immediately and open the lids.\\nKeep aside.Heat oil in a heavy bottomed pan or a kadhai.\\nAdd cumin seeds and let it sizzle.Once the cumin seeds have sizzled, add onions and saute them till it turns golden brown in color.Add the karela, red chilli powder, amchur powder, coriander powder and besan.\\nStir to combine the masalas into the karela.Drizzle a little extra oil on the top and mix again.\\nCover the pan and simmer Masala Karela stirring occasionally until everything comes together well.\\nTurn off the heat.Transfer Masala Karela into a serving bowl and serve.Serve Masala Karela along with Panchmel Dal and Phulka for a weekday meal with your family.\\n'"
      ]
     },
     "execution_count": 21,
     "metadata": {},
     "output_type": "execute_result"
    }
   ],
   "source": [
    "df.TranslatedInstructions[0]"
   ]
  },
  {
   "cell_type": "code",
   "execution_count": 22,
   "id": "31989aac-91bb-4268-a56f-5c2274b7668d",
   "metadata": {},
   "outputs": [],
   "source": [
    "import re\n"
   ]
  },
  {
   "cell_type": "code",
   "execution_count": 23,
   "id": "7d2b6882-70be-4dbb-abbb-0dd5e9a7b825",
   "metadata": {},
   "outputs": [],
   "source": [
    "def preprocess(text):\n",
    "    text = re.sub(r'[^\\w\\s\\']',' ', text)\n",
    "    text = re.sub(r'[ \\n]+', ' ', text)\n",
    "    return text.strip().lower() "
   ]
  },
  {
   "cell_type": "code",
   "execution_count": 24,
   "id": "eae1e11d-ccb0-482b-bd1b-3cd423cbfd1d",
   "metadata": {},
   "outputs": [
    {
     "data": {
      "text/plain": [
       "'to begin making the masala karela recipe de seed the karela and slice do not remove the skin as the skin has all the nutrients add the karela to the pressure cooker with 3 tablespoon of water salt and turmeric powder and pressure cook for three whistles release the pressure immediately and open the lids keep aside heat oil in a heavy bottomed pan or a kadhai add cumin seeds and let it sizzle once the cumin seeds have sizzled add onions and saute them till it turns golden brown in color add the karela red chilli powder amchur powder coriander powder and besan stir to combine the masalas into the karela drizzle a little extra oil on the top and mix again cover the pan and simmer masala karela stirring occasionally until everything comes together well turn off the heat transfer masala karela into a serving bowl and serve serve masala karela along with panchmel dal and phulka for a weekday meal with your family'"
      ]
     },
     "execution_count": 24,
     "metadata": {},
     "output_type": "execute_result"
    }
   ],
   "source": [
    "text = 'To begin making the Masala Karela Recipe,de-seed the karela and slice.\\nDo not remove the skin as the skin has all the nutrients.\\nAdd the karela to the pressure cooker with 3 tablespoon of water, salt and turmeric powder and pressure cook for three whistles.\\nRelease the pressure immediately and open the lids.\\nKeep aside.Heat oil in a heavy bottomed pan or a kadhai.\\nAdd cumin seeds and let it sizzle.Once the cumin seeds have sizzled, add onions and saute them till it turns golden brown in color.Add the karela, red chilli powder, amchur powder, coriander powder and besan.\\nStir to combine the masalas into the karela.Drizzle a little extra oil on the top and mix again.\\nCover the pan and simmer Masala Karela stirring occasionally until everything comes together well.\\nTurn off the heat.Transfer Masala Karela into a serving bowl and serve.Serve Masala Karela along with Panchmel Dal and Phulka for a weekday meal with your family.\\n'\n",
    "\n",
    "preprocess(text)"
   ]
  },
  {
   "cell_type": "code",
   "execution_count": 25,
   "id": "a4cba348-7de1-41b0-a6cb-80e8473c796c",
   "metadata": {},
   "outputs": [],
   "source": [
    "df.TranslatedInstructions = df.TranslatedInstructions.map(preprocess)"
   ]
  },
  {
   "cell_type": "code",
   "execution_count": 26,
   "id": "ed65a2f3-dfee-4f26-9890-26c4f9135bd3",
   "metadata": {},
   "outputs": [],
   "source": [
    "df.to_csv(\"food_receipes.txt\", columns=[\"TranslatedInstructions\"], header=None, index=False)"
   ]
  },
  {
   "cell_type": "code",
   "execution_count": 27,
   "id": "5f766147-f574-4221-966a-6254d94e0c53",
   "metadata": {},
   "outputs": [],
   "source": [
    "model = fasttext.train_unsupervised(\"food_receipes.txt\")"
   ]
  },
  {
   "cell_type": "code",
   "execution_count": 28,
   "id": "9f6d19d6-f98b-4389-aab0-dd1a226eeb81",
   "metadata": {},
   "outputs": [
    {
     "data": {
      "text/plain": [
       "[(0.928361713886261, 'chutneys'),\n",
       " (0.7465147376060486, 'khajur'),\n",
       " (0.7151179909706116, 'imli'),\n",
       " (0.7030872106552124, 'dhaniya'),\n",
       " (0.6875118613243103, 'pudina'),\n",
       " (0.683403730392456, 'pudi'),\n",
       " (0.6612727046012878, 'kadale'),\n",
       " (0.6484037637710571, 'south'),\n",
       " (0.6454198956489563, 'mullu'),\n",
       " (0.6403149962425232, 'vengayam')]"
      ]
     },
     "execution_count": 28,
     "metadata": {},
     "output_type": "execute_result"
    }
   ],
   "source": [
    "model.get_nearest_neighbors(\"chutney\")"
   ]
  },
  {
   "cell_type": "code",
   "execution_count": 29,
   "id": "8ecd29ea-fc41-46a6-bc33-bd6b90c7b724",
   "metadata": {},
   "outputs": [
    {
     "data": {
      "text/plain": [
       "[(0.6623362302780151, 'tikka'),\n",
       " (0.6432651281356812, 'tandoori'),\n",
       " (0.6180828809738159, 'tikkas'),\n",
       " (0.5981954336166382, 'nawabi'),\n",
       " (0.5860667824745178, 'satay'),\n",
       " (0.5853579044342041, 'gulgule'),\n",
       " (0.5680952072143555, 'bhurji'),\n",
       " (0.5680750012397766, 'tofu'),\n",
       " (0.5645150542259216, 'kachariyu'),\n",
       " (0.5635581612586975, 'kasuri')]"
      ]
     },
     "execution_count": 29,
     "metadata": {},
     "output_type": "execute_result"
    }
   ],
   "source": [
    "model.get_nearest_neighbors(\"paneer\")"
   ]
  },
  {
   "cell_type": "code",
   "execution_count": 30,
   "id": "eb8589bc-ef85-461d-a94f-ac514daf15f9",
   "metadata": {},
   "outputs": [
    {
     "data": {
      "text/plain": [
       "[(0.7198706865310669, 'khoya'),\n",
       " (0.6836980581283569, 'rabri'),\n",
       " (0.6729791164398193, 'mawa'),\n",
       " (0.6713822484016418, 'sheera'),\n",
       " (0.6632093191146851, 'burfi'),\n",
       " (0.6482721567153931, 'kesari'),\n",
       " (0.6460029482841492, 'mohan'),\n",
       " (0.6371239423751831, 'rawa'),\n",
       " (0.629993736743927, 'bhog'),\n",
       " (0.619492769241333, 'sooji')]"
      ]
     },
     "execution_count": 30,
     "metadata": {},
     "output_type": "execute_result"
    }
   ],
   "source": [
    "model.get_nearest_neighbors(\"halwa\")"
   ]
  },
  {
   "cell_type": "code",
   "execution_count": 31,
   "id": "d0a5a2ac-367b-41a8-aac5-c24f68c53c52",
   "metadata": {},
   "outputs": [
    {
     "data": {
      "text/plain": [
       "[(0.8515180349349976, 'dosai'),\n",
       " (0.8370665907859802, 'dosas'),\n",
       " (0.7979163527488708, \"dosa's\"),\n",
       " (0.7120574116706848, 'uttapam'),\n",
       " (0.7066386342048645, 'uthappam'),\n",
       " (0.6953912377357483, 'dose'),\n",
       " (0.685860276222229, 'pesarattu'),\n",
       " (0.6641030311584473, 'idli'),\n",
       " (0.6564520597457886, 'neer'),\n",
       " (0.6439701318740845, 'unniyappam')]"
      ]
     },
     "execution_count": 31,
     "metadata": {},
     "output_type": "execute_result"
    }
   ],
   "source": [
    "model.get_nearest_neighbors(\"dosa\")"
   ]
  },
  {
   "cell_type": "code",
   "execution_count": 32,
   "id": "b8d2664a-c3f0-4f8e-af86-16747b9b4e52",
   "metadata": {},
   "outputs": [
    {
     "data": {
      "text/plain": [
       "[(0.7364989519119263, 'sprouted'),\n",
       " (0.7115408778190613, 'dal'),\n",
       " (0.6878705620765686, 'moongphali'),\n",
       " (0.6758162975311279, 'mooga'),\n",
       " (0.6706833839416504, 'sprout'),\n",
       " (0.6606162786483765, 'sprouts'),\n",
       " (0.6585603952407837, 'moth'),\n",
       " (0.6183035969734192, 'moolangi'),\n",
       " (0.6131513118743896, 'horsegram'),\n",
       " (0.6051080226898193, 'upkari')]"
      ]
     },
     "execution_count": 32,
     "metadata": {},
     "output_type": "execute_result"
    }
   ],
   "source": [
    "model.get_nearest_neighbors(\"moong\")"
   ]
  },
  {
   "cell_type": "code",
   "execution_count": 33,
   "id": "3cb343ee-fbbd-4233-9217-5aed26471975",
   "metadata": {},
   "outputs": [
    {
     "data": {
      "text/plain": [
       "[(0.8488345742225647, 'agathi'),\n",
       " (0.839712917804718, 'fansi'),\n",
       " (0.8365771770477295, 'shaak'),\n",
       " (0.8213346600532532, 'turai'),\n",
       " (0.8189590573310852, 'besara'),\n",
       " (0.8163037300109863, 'karara'),\n",
       " (0.8133404850959778, 'sarson'),\n",
       " (0.8078173995018005, 'rasawala'),\n",
       " (0.8043723106384277, 'mulakushyam'),\n",
       " (0.8030866384506226, 'tirunelveli')]"
      ]
     },
     "execution_count": 33,
     "metadata": {},
     "output_type": "execute_result"
    }
   ],
   "source": [
    "model.get_nearest_neighbors(\"saragva\")"
   ]
  },
  {
   "cell_type": "code",
   "execution_count": 34,
   "id": "7d2048e9-c922-4830-a794-3409051c50a1",
   "metadata": {},
   "outputs": [
    {
     "data": {
      "text/plain": [
       "[(0.7625024914741516, 'dubki'),\n",
       " (0.7366127967834473, 'wali'),\n",
       " (0.7330325245857239, 'tamatari'),\n",
       " (0.7323329448699951, 'chokha'),\n",
       " (0.7263420224189758, 'jodhpuri'),\n",
       " (0.7258092164993286, 'sookha'),\n",
       " (0.7190786600112915, 'jaipuri'),\n",
       " (0.715096652507782, 'aur'),\n",
       " (0.7101593017578125, 'masaledar'),\n",
       " (0.710078775882721, 'bihari')]"
      ]
     },
     "execution_count": 34,
     "metadata": {},
     "output_type": "execute_result"
    }
   ],
   "source": [
    "model.get_nearest_neighbors(\"aloo\")"
   ]
  },
  {
   "cell_type": "code",
   "execution_count": null,
   "id": "9e1d2238-0109-4c08-a4ae-ace163644d32",
   "metadata": {},
   "outputs": [],
   "source": []
  }
 ],
 "metadata": {
  "kernelspec": {
   "display_name": "Python 3.12 (spacy)",
   "language": "python",
   "name": "python312"
  },
  "language_info": {
   "codemirror_mode": {
    "name": "ipython",
    "version": 3
   },
   "file_extension": ".py",
   "mimetype": "text/x-python",
   "name": "python",
   "nbconvert_exporter": "python",
   "pygments_lexer": "ipython3",
   "version": "3.12.8"
  }
 },
 "nbformat": 4,
 "nbformat_minor": 5
}
