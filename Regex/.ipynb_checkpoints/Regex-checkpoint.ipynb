{
 "cells": [
  {
   "cell_type": "code",
   "execution_count": 1,
   "id": "63c3b8b1-3d77-410b-9d8e-520bed49c5d2",
   "metadata": {},
   "outputs": [],
   "source": [
    "import re"
   ]
  },
  {
   "cell_type": "code",
   "execution_count": 2,
   "id": "6251df42-8307-419f-8b41-6bf8b460fcb5",
   "metadata": {},
   "outputs": [],
   "source": [
    "chat1 = 'Saket: you ask lot of questions 😠  1235678912, abc@xyz.com'\n",
    "chat2 = 'Saket: here it is: (123)-567-8912, abc@xyz.com'\n",
    "chat3 = 'Saket: yes, phone: 1235678912 email: abc@xyz.com'"
   ]
  },
  {
   "cell_type": "code",
   "execution_count": null,
   "id": "fd2c3fa0-6f2c-4dae-8054-a0242575f16a",
   "metadata": {},
   "outputs": [],
   "source": [
    "pattern="
   ]
  }
 ],
 "metadata": {
  "kernelspec": {
   "display_name": "Python 3 (ipykernel)",
   "language": "python",
   "name": "python3"
  },
  "language_info": {
   "codemirror_mode": {
    "name": "ipython",
    "version": 3
   },
   "file_extension": ".py",
   "mimetype": "text/x-python",
   "name": "python",
   "nbconvert_exporter": "python",
   "pygments_lexer": "ipython3",
   "version": "3.13.0"
  }
 },
 "nbformat": 4,
 "nbformat_minor": 5
}
