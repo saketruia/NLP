{
 "cells": [
  {
   "cell_type": "code",
   "execution_count": 5,
   "id": "bbb28ae1-756c-4e24-b262-b6911800ded1",
   "metadata": {},
   "outputs": [
    {
     "name": "stdout",
     "output_type": "stream",
     "text": [
      "showing info https://raw.githubusercontent.com/nltk/nltk_data/gh-pages/index.xml\n"
     ]
    },
    {
     "data": {
      "text/plain": [
       "True"
      ]
     },
     "execution_count": 5,
     "metadata": {},
     "output_type": "execute_result"
    }
   ],
   "source": [
    "import nltk\n",
    "nltk.download()"
   ]
  },
  {
   "cell_type": "code",
   "execution_count": 2,
   "id": "7e3f75eb-621e-4fcf-b107-0591df3d1db6",
   "metadata": {},
   "outputs": [],
   "source": [
    "from nltk.tokenize import sent_tokenize\n"
   ]
  },
  {
   "cell_type": "code",
   "execution_count": 10,
   "id": "e8e0ebb6-0178-4ca0-a003-796ac50049fd",
   "metadata": {},
   "outputs": [
    {
     "data": {
      "text/plain": [
       "['Mr. Saket loves playing cricket.', 'He also loves coding']"
      ]
     },
     "execution_count": 10,
     "metadata": {},
     "output_type": "execute_result"
    }
   ],
   "source": [
    "sent_tokenize(\"Mr. Saket loves playing cricket. He also loves coding\")\n"
   ]
  },
  {
   "cell_type": "code",
   "execution_count": 11,
   "id": "150b87ce-c00a-4ce3-8983-be1399a1e704",
   "metadata": {},
   "outputs": [
    {
     "data": {
      "text/plain": [
       "['Mr.',\n",
       " 'Saket',\n",
       " 'loves',\n",
       " 'playing',\n",
       " 'cricket',\n",
       " '.',\n",
       " 'He',\n",
       " 'also',\n",
       " 'loves',\n",
       " 'coding']"
      ]
     },
     "execution_count": 11,
     "metadata": {},
     "output_type": "execute_result"
    }
   ],
   "source": [
    "from nltk.tokenize import word_tokenize\n",
    "word_tokenize(\"Mr. Saket loves playing cricket. He also loves coding\")"
   ]
  },
  {
   "cell_type": "code",
   "execution_count": null,
   "id": "9cb6d2c2-2e24-4979-98e7-22c5a6b661d5",
   "metadata": {},
   "outputs": [],
   "source": []
  }
 ],
 "metadata": {
  "kernelspec": {
   "display_name": "Python 3 (ipykernel)",
   "language": "python",
   "name": "python3"
  },
  "language_info": {
   "codemirror_mode": {
    "name": "ipython",
    "version": 3
   },
   "file_extension": ".py",
   "mimetype": "text/x-python",
   "name": "python",
   "nbconvert_exporter": "python",
   "pygments_lexer": "ipython3",
   "version": "3.13.0"
  }
 },
 "nbformat": 4,
 "nbformat_minor": 5
}
